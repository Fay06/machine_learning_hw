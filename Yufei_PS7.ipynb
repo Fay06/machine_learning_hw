{
  "nbformat": 4,
  "nbformat_minor": 0,
  "metadata": {
    "colab": {
      "name": "PS7 (CLEAN).ipynb",
      "provenance": [],
      "collapsed_sections": []
    },
    "kernelspec": {
      "name": "python3",
      "display_name": "Python 3"
    }
  },
  "cells": [
    {
      "cell_type": "markdown",
      "metadata": {
        "id": "bhcnqfawZhmx"
      },
      "source": [
        "# Problem Set 7: Backpropagation\n",
        "# CMSC 422, Fall 2021\n",
        "# Due Nov 18 at 11:59pm\n",
        "\n",
        "<center>\n",
        "<img src=\"https://miro.medium.com/max/1914/1*F9capAHwl_rz2-Q8z511WQ.jpeg\" alt=\"meme\" width=\"500px\"/>\n",
        "</center>"
      ]
    },
    {
      "cell_type": "markdown",
      "metadata": {
        "id": "Ooh3KTatYqgl"
      },
      "source": [
        "# Instructions\n",
        "In this problem set you will implement backpropagation for a set of different neural network architectures.\n",
        "There is some code provided for you here, and you will write your implementations in the places marked with __```#TODO: Your Code Here```__. You may add helper functions if you feel you need to.\n",
        "\n",
        "__Analysis Questions:__ In addition to Python programming, each problem will contain some analysis questions (under __Analysis__). These are meant to ensure you understand your results, and will be manually graded on Gradescope.\n",
        "\n",
        "__Submission:__ download this notebook as a `.ipynb` file and submit it to Gradescope. This assignment will be partially autograded so follow instructions closely.  \n",
        " \n",
        "- Make sure your plots are visible when downloading the notebook, otherwise they won't appear on Gradescope. \n",
        "- Make sure your code cells are not throwing exceptions.\n",
        "- Please do not import any packages other than what has already been imported here. You may be penalized for doing so.\n",
        "- Lastly, the autograder times out after 40 minutes, so make sure your implementation is relativly efficient (e.g. by using numpy for matrix operations). Our implementation took a little over 10 minutes to test."
      ]
    },
    {
      "cell_type": "markdown",
      "metadata": {
        "id": "lOtWraGuaWzc"
      },
      "source": [
        "# Problems"
      ]
    },
    {
      "cell_type": "markdown",
      "metadata": {
        "id": "noBuJ-fIZJ0m"
      },
      "source": [
        "## Problem 1 (25 Points)\n",
        "We'll begin with the simplest possible network (a single layer perceptron). It has a single input feature that we call $x$. This is the activation of the single node of the input layer. This is connected to a single output node, which has a weight, $w$. We also have a bias term, so the activation of the output unit is $a = wx + b$. This network will be used to solve a linear regression problem. So, if we are given an input pair of $(x,y)$, we want to minimize the loss: \n",
        "\n",
        "$$L(x,y) = \\frac{1}{1+e^{-(a-y)^2}} - \\frac{1}{2}$$\n",
        "\n",
        "To do this, you will need to randomly initialize the weight and bias and then perform gradient descent.\n",
        "<br>\n",
        "<br>\n",
        "<center>\n",
        "<img src=\"https://drive.google.com/thumbnail?id=1Qz8jJaPXbVzoL44Nd4nbQgFHOA8G_XyI&sz=w1000\" alt=\"net1\" width=\"150px\"/>\n",
        "<br>\n",
        "<i>Figure 1: Network for Problem 1</i>\n",
        "</center>\n",
        "<br>\n",
        "<br>\n",
        "The gradient of the loss is computed using a training set containing pairs, $(x_1, y_1), (x_2, y_2), ... (x_n, y_n)$. We have:\n",
        "\n",
        "$$\\nabla L = \\frac{1}{n} \\sum_{i=1}^n \\left( \\frac{\\partial L}{\\partial w}(x_i, y_i), \\frac{\\partial L}{\\partial b}(x_i, y_i)  \\right)$$\n",
        "\n",
        "If we denote $\\theta = (w,b)$ as a vector containing all the parameters of the network, we perform gradient\n",
        "descent with the update:\n",
        "\n",
        "$$\\theta^k = \\theta^{k-1} - \\eta \\nabla L$$\n",
        "\n",
        "Here $\\eta$ is the learning rate, and $\\theta^k$ denotes a vector of $(w,b)$ after the $k$'th iteration of gradient descent. Do not mistake $\\eta$ (the learning rate) for $n$ (the number of data points).\n",
        "We provide you with a routine to generate training data. This has the form: \n",
        "\n",
        "```simplest_training_data(n)```  \n",
        "  \n",
        "This just generates $n$ random training points on the line $y = 3x + 2$, with a little Gaussian noise added to the points.  \n",
        "You need to write a routine with the form: \n",
        "\n",
        "```simplest_training(n, k, eta)```\n",
        "\n",
        "Here $n$ indicates the number of points in the training set (you can call `simplest_training_data` to get the training data), $k$ indicates the total number of iterations that you will use in training, and $\\eta$ is the learning rate.  To initialize the weights in your network, we suggest that you initialize $w$ with a Gaussian random variable with mean 0 and variance of 1, and that you initialize $b = 0$.  \n",
        "You also need to write a routine of the form: \n",
        "\n",
        "```simplest_testing(theta, x)```\n",
        "\n",
        "This routine applies the network, using the parameters in theta, to the input values in the vector $x$, and returns a vector of results in $y$.\n",
        "After training, the network should learn $w$ and $b$ values that are similar to those used to train the network.  So you can test your network by looking at the learned $w$ and $b$ values.  Or you can use the testing algorithm to see if the network computes appropriate $y$ values.  In testing, you may find that if you use too big a value for $\\eta$ the network will not converge to anything meaningful.  If you use a value of $k$ that is too small, it won't have time to converge to a good solution.\n",
        "We run our algorithm with $n = 30, k = 10000, \\eta = .02$.   When we test using $x = (0, 1, ..., 9)$ we get the result:\n",
        "  \n",
        "```\n",
        "1.99107688  4.91908171  7.84708654 10.77509137 13.7030962  16.63110103 19.55910586 22.48711069 25.41511552 28.34312035\n",
        "```\n",
        "\n",
        "These points fit the line $y = 3x + 2$."
      ]
    },
    {
      "cell_type": "code",
      "metadata": {
        "id": "xZsEHnFFs01Z",
        "colab": {
          "base_uri": "https://localhost:8080/"
        },
        "outputId": "0f24eb83-c68e-4789-e6cb-c28d000aa3ee"
      },
      "source": [
        "import numpy as np\n",
        "import math as m\n",
        "import sys\n",
        "\n",
        "###Problem 1\n",
        "###Provided function to create training data\n",
        "def simplest_training_data(n): # Do NOT edit this function: simplest_training_data(n)!\n",
        "    m = 3\n",
        "    b = 2\n",
        "    x = np.random.uniform(0,1,n)\n",
        "    y = m*x+b+0.3*np.random.normal(0,1,n)\n",
        "    return (x,y)\n",
        "\n",
        "def simplest_training(n, k, eta):\n",
        "  np.random.seed(0)\n",
        "  # TODO: implement this method.\n",
        "  # Perform gradient descent k times with learning rate eta\n",
        "  # and n training data points.\n",
        "  # theta contains the learned parameters after training.\n",
        "  w = np.random.normal(0,1)\n",
        "  b = 0\n",
        "  for i in range(k):\n",
        "    x, y = simplest_training_data(n)\n",
        "    new_y = w*x + b\n",
        "    loss = 1/(np.exp(-(new_y-y)**2) + 1)\n",
        "    loss = loss*(1 - loss)\n",
        "    diff = loss*2*(new_y - y)\n",
        "\n",
        "    w = w - eta*np.mean(diff*x)\n",
        "    b = b - eta*np.mean(diff)\n",
        "  return (w, b)\n",
        "\n",
        "\n",
        "def simplest_testing(theta, x):\n",
        "  # TODO: implement this method.\n",
        "  # Use the learned theta to classify given test data x.\n",
        "  # y stores the list of labels predicted by the model corresponding to each data in x.\n",
        "  w = theta[0]\n",
        "  b = theta[1]\n",
        "  y = w*np.array(x) + b\n",
        "  return y\n",
        "\n",
        "def simplest_loss(theta, x):\n",
        "  # TODO: implement this method for finding average loss\n",
        "  # Compute the average loss (use the loss function given in the question)\n",
        "  # for data points in x using theta.\n",
        "  # Return loss, a scalar value.\n",
        "  y = simplest_testing(theta, x)\n",
        "  new_y = np.array(x)*3 + 2\n",
        "  loss = np.mean(1/(np.exp((-(y - new_y)**2)) + 1) - 1/2)\n",
        "  return loss\n",
        "\n",
        "print(simplest_loss(simplest_training(30, 100, 5), [0,1,2,3,4,5,6,7,8,9]))"
      ],
      "execution_count": 66,
      "outputs": [
        {
          "output_type": "stream",
          "name": "stdout",
          "text": [
            "0.45341226222071285\n"
          ]
        }
      ]
    },
    {
      "cell_type": "markdown",
      "metadata": {
        "id": "cBZDJthCOAOw"
      },
      "source": [
        "### Analysis (10 Points)\n",
        "Answer the following questions (a - e):\n",
        "\n",
        "a) What is the average loss for test data for $x = (0, 1, ..., 9)$ using model\n",
        "with $n = 30, k = 10000, \\eta = 0.02$? (Only write the float value below)\n",
        "\n",
        "b) What is the average loss for test data for $x = (0, 1, ..., 9)$ using model\n",
        "with $n = 2, k = 10000, \\eta = 0.02$? (Only write the float value below)\n",
        "\n",
        "c) What is the average loss for test data for $x = (0, 1, ..., 9)$ using model\n",
        "with $n = 30, k = 100, \\eta = 5$? (Only write the float value below)\n",
        "\n",
        "d) What is the average loss for test data for $x = (0, 1, ..., 9)$ using model\n",
        "with $n = 30, k = 10000, \\eta = 0.000002$? (Only write the float value below)\n",
        "\n",
        "e) Are the average loss values you get in each cases above (b-d) differ from that (a)? Why? **(Explain in less than 50 words. You will be penalized if the answer exceeds the word limit.)**\n",
        "\n",
        "\\\\\n",
        "\n",
        "\n",
        "- !!! _YOUR RESPONSE HERE_ !!!\n",
        "\n",
        "**a)0.0000881258**\n",
        "\n",
        "**b)0.0002482127**\n",
        "\n",
        "**c)0.4534122622**\n",
        "\n",
        "**d)0.4981952445**\n",
        "\n",
        "**e)Yes, because they have different batch size and learn rate which will effect the average loss.**\n",
        "\n"
      ]
    },
    {
      "cell_type": "markdown",
      "metadata": {
        "id": "-KBU60MFa84o"
      },
      "source": [
        "## Problem 2 (35 Points)\n",
        "You will now create a network that is a little more complicated. It still contains just an input and an output layer, with no hidden layers. But it now has a nonlinearity along with a cross-entropy loss, so that we can use it for classification.\n",
        "<br>\n",
        "<br>\n",
        "<center>\n",
        "<img src=\"https://drive.google.com/thumbnail?id=1UkNx6-HghYRsjrXbqB6jN04VUsA-_RKp&sz=w1000\" alt=\"net2\" width=\"400px\"/>\n",
        "<br>\n",
        "<i>Figure 2: Network for Problem 2</i>\n",
        "</center>\n",
        "<br>\n",
        "\n",
        "The network has two inputs, $x_1$ and $x_2$.  These are connected with two weights to a single output unit.  If we let $z = w_1x_1 + w_2x_2 + b$, the output unit will have an activation of $a = \\sigma(z)$, where $\\sigma(z)$ represents the sigmoid function:\n",
        "\n",
        "$$\\sigma(z) = \\frac{1}{1+e^{-z}}$$\n",
        "\n",
        "We can interpret the output as giving the probability that the input belongs to class 1. If the probability is low, then the input probably belongs to class 0. Hint: the derivative of the sigmoid is given by:\n",
        "\n",
        "$$\\frac{d\\sigma}{dz} = \\sigma(z)(1-\\sigma(z))$$\n",
        "\n",
        "In training the network, you will use the cross-entropy loss. In this case, the cross entropy loss will be:\n",
        "\n",
        "$$L_{CE}(x,y) = -(y\\log{a} + (1-y)\\log{(1-a)})$$\n",
        "\n",
        "If $y = 1$, this is just the negative log of what the network predicts for the probability that the input belongs to class 1.  If $y = 0$, it is the negative log of the probability that the input belongs to class 0.\n",
        "We provide you with a routine to generate training data. This has the form:\n",
        "\n",
        "```single_layer_training_data(trainset)```  \n",
        "    \n",
        "which returns $X$ and $y$.\n",
        "This provides two different training sets.  When the input, trainset, is 1, the function produces a simple, linearly separable training set.  Half the points are near $(0,0)$ and half are near $(10,10)$.  $X$ is a matrix in which each row contains one of these points, so it is $n \\times 2$, where $n$ is the number of points.  $y$ is a vector of class labels, which have the value 1 for the points near $(0,0)$ and 0 for the points near $(10,10)$.\n",
        "\n",
        "When trainset is 2, we generate a different training set that is not linearly separable, but that corresponds to the Xor problem.  Points from class 1 are either near $(0,0)$ or $(10,10)$, while points in class 0 are near either $(10,0)$ or $(0,10)$.\n",
        "\n",
        "You will need to implement two routines.  \n",
        "The first is: \n",
        "\n",
        "```single_layer_training(k, eta, trainset)```  \n",
        "  \n",
        "As before, $k$ will indicate the number of iterations of gradient descent and eta gives the learning rate.  trainset indicates which training set to use, 1 or 2.  You will train the network using the same gradient descent approach as in the previous problem.  As before, we suggest that you initialize weights using random values chosen from a Gaussian distribution with zero mean, and that you initialize bias at 0.  \n",
        "\n",
        "You will also implement a test routine: \n",
        "\n",
        "```single_layer_testing(theta, X)```  \n",
        "  \n",
        "This takes in the network parameters and a matrix, $X$, of the form returned by single\\_layer\\_training\\_data.  It returns a vector of the output values the network computes.\n",
        "\n",
        "__Remember__: The `trainset` argument is the integer to be used to generate data with `single_layer_training_data(trainset)`, it is NOT the training dataset."
      ]
    },
    {
      "cell_type": "code",
      "metadata": {
        "id": "4sLnCceZtHFv"
      },
      "source": [
        "###Problem 2\n",
        "###Provided function to create training data\n",
        "def single_layer_training_data(trainset):\n",
        "    n = 10\n",
        "    if trainset == 1:\n",
        "    # Linearly separable\n",
        "        X = np.concatenate((np.random.normal((0,0),1,(n,2)), np.random.normal((10,10),1,(n,2))),axis=0)\n",
        "        y = np.concatenate((np.ones(n), np.zeros(n)),axis=0)\n",
        "\n",
        "    elif trainset == 2:\n",
        "        # Not Linearly Separable\n",
        "        X = np.concatenate((np.random.normal((0,0),1,(n,2)), np.random.normal((10,10),1,(n,2)), np.random.normal((10,0),1,(n,2)), np.random.normal((0,10),1,(n,2))),axis=0)\n",
        "        y = np.concatenate((np.ones(2*n), np.zeros(2*n)), axis=0)\n",
        "\n",
        "    else:\n",
        "        print (\"function single_layer_training_data undefined for input\", trainset)\n",
        "        sys.exit()\n",
        "\n",
        "    return (X,y)\n",
        "\n",
        "def single_layer_training(k, eta, trainset):\n",
        "  #TODO: Your Code Here\n",
        "  w1 = np.random.normal(0,1)\n",
        "  w2 = np.random.normal(0,1)\n",
        "  b = 0\n",
        "  for i in range(k):\n",
        "    x, y = single_layer_training_data(trainset)\n",
        "    x1, x2 = x[:, 0], x[:, 1]\n",
        "    z = w1*x1 + w2*x2 + b\n",
        "    sigma = 1/(np.exp(-z) + 1)\n",
        "    diff = (y - 1)/(sigma - 1) - y/sigma\n",
        "    sigma = sigma*(1-sigma) \n",
        "\n",
        "    w1 = w1 - eta*np.mean(sigma*diff*x1)\n",
        "    w2 = w2 - eta*np.mean(sigma*diff*x2)\n",
        "    b = b - eta*np.mean(sigma*diff)\n",
        "  return (w1, w2, b) \n",
        "\n",
        "def single_layer_testing(theta, X):\n",
        "  #TODO: Your Code Here\n",
        "  w1 = theta[0]\n",
        "  w2 = theta[1]\n",
        "  b = theta[2]\n",
        "  x1, x2 = X[:, 0], X[:, 1]\n",
        "  z = w1*x1 + w2*x2 + b\n",
        "  sigma = 1/(np.exp(-z) + 1)\n",
        "  return sigma"
      ],
      "execution_count": 67,
      "outputs": []
    },
    {
      "cell_type": "markdown",
      "metadata": {
        "id": "Ty4jZ23sPvVA"
      },
      "source": [
        "### Analysis (10 Points)\n",
        "Do not use the data you used to train the network, call `single_layer_training_data` again to get fresh data for testing. Answer the following questions in this cell:\n",
        "\n",
        "a) What is the value of theta when k = 10000, $\\eta$=0.01, for trainset = 1? \n",
        "\n",
        "b) Plot a figure for datapoints and the linearly separator the algorithm calculated under the condition in a).\n",
        "\n",
        "c) What is the value of theta when k = 10000, $\\eta$=0.0001, for trainset = 2? \n",
        "\n",
        "d) Plot a figure for datapoints and the linearly separator the algorithm calculated under the condition in c).\n",
        "\n",
        "e) When trainset = 1, your network should assign a high probability of belonging to class 1 for points near $(0,0)$, and a low probability for points near $(10,10)$.  When trainset = 2, the data is not linearly separable, so you may find that your network has problems being able to separate. Use sample network outputs to describe what happens for the two trainsets. **(Explain in less than 50 words. You will be penalized if the answer exceeds the word limit.)**\n",
        "\n",
        "\n",
        "- !!! _YOUR RESPONSE HERE_ !!!\n",
        "\n",
        "###The anwer for a and b is below:"
      ]
    },
    {
      "cell_type": "code",
      "metadata": {
        "colab": {
          "base_uri": "https://localhost:8080/",
          "height": 318
        },
        "id": "yDh1Oy0-5E0u",
        "outputId": "ddde7f22-85d4-48df-e954-265ba618d70a"
      },
      "source": [
        "import matplotlib.pyplot as plt\n",
        "theta = single_layer_training(10000, 0.01, 1)\n",
        "print(theta)\n",
        "x, y = single_layer_training_data(1)\n",
        "plt.scatter(x[y>0.5][:, 0], x[y>0.5][:, 1], c='blue')\n",
        "plt.scatter(x[y<0.5][:, 0], x[y<0.5][:, 1], c='red')\n",
        "w1, w2, b = theta\n",
        "plt.plot(x, (-(b / w2) / (b / w1))*x + (-b / w2), c = 'black')"
      ],
      "execution_count": 68,
      "outputs": [
        {
          "output_type": "stream",
          "name": "stdout",
          "text": [
            "(-0.532387436127172, -0.5386535899216017, 3.972422446803283)\n"
          ]
        },
        {
          "output_type": "execute_result",
          "data": {
            "text/plain": [
              "[<matplotlib.lines.Line2D at 0x7f8df23458d0>,\n",
              " <matplotlib.lines.Line2D at 0x7f8df2345fd0>]"
            ]
          },
          "metadata": {},
          "execution_count": 68
        },
        {
          "output_type": "display_data",
          "data": {
            "image/png": "[encoded data removed]",
            "text/plain": [
              "<Figure size 432x288 with 1 Axes>"
            ]
          },
          "metadata": {
            "needs_background": "light"
          }
        }
      ]
    },
    {
      "cell_type": "markdown",
      "metadata": {
        "id": "raJGnuY46fQH"
      },
      "source": [
        "###The anwer for c and d is below:"
      ]
    },
    {
      "cell_type": "code",
      "metadata": {
        "colab": {
          "base_uri": "https://localhost:8080/",
          "height": 316
        },
        "id": "zF4AmUOq6oLD",
        "outputId": "94298d1f-506d-4bf5-9729-71f27eb0ee0a"
      },
      "source": [
        "import matplotlib.pyplot as plt\n",
        "theta = single_layer_training(10000, 0.0001, 2)\n",
        "print(theta)\n",
        "x, y = single_layer_training_data(2)\n",
        "plt.scatter(x[y>0.5][:, 0], x[y>0.5][:, 1], c='blue')\n",
        "plt.scatter(x[y<0.5][:, 0], x[y<0.5][:, 1], c='red')\n",
        "w1, w2, b = theta\n",
        "plt.plot(x, (-(b / w2) / (b / w1))*x + (-b / w2), c = 'black')"
      ],
      "execution_count": 75,
      "outputs": [
        {
          "output_type": "stream",
          "name": "stdout",
          "text": [
            "(0.0002580248928252868, 0.001251460539957356, -0.011205376013272199)\n"
          ]
        },
        {
          "output_type": "execute_result",
          "data": {
            "text/plain": [
              "[<matplotlib.lines.Line2D at 0x7f8df1e030d0>,\n",
              " <matplotlib.lines.Line2D at 0x7f8df1e032d0>]"
            ]
          },
          "metadata": {},
          "execution_count": 75
        },
        {
          "output_type": "display_data",
          "data": {
            "image/png": "[encoded data removed]",
            "text/plain": [
              "<Figure size 432x288 with 1 Axes>"
            ]
          },
          "metadata": {
            "needs_background": "light"
          }
        }
      ]
    },
    {
      "cell_type": "markdown",
      "metadata": {
        "id": "TMpU0X_D64QU"
      },
      "source": [
        "###The anwer for e is below:\n",
        "It is possible to draw a line when trainset = 1, because one data set is linearly separable. However, when trainset = 2, it is impossible to draw a perfect line to sepearate both of them."
      ]
    },
    {
      "cell_type": "markdown",
      "metadata": {
        "id": "dBqMD3voqug8"
      },
      "source": [
        "## Problem 3 (40 Points)\n",
        "<center>\n",
        "<img src=\"https://drive.google.com/thumbnail?id=1lZQ1CnQUDD-kiyL-FtDu0UTO1dmEy-Oq&sz=w1000\" alt=\"net3\" width=\"400px\"/>\n",
        "<br>\n",
        "<i>Figure 3: Network for Problem 3</i>\n",
        "</center>\n",
        "<br>\n",
        "<br>\n",
        "Now you will implement a multi-layer network that has a hidden layer.  To start with a relatively simple case, we will do this without any non-linearities. The network has two input units, $x_1$ and $x_2$.  These are connected to a single hidden unit.  We'll call the activation of this hidden unit $h$, so $h = w_{11}x_1 + w_{12}x_2 + b_{11}$.  This hidden unit is connected to two output units.  We'll call their activation $z_1$ and $z_2$, so we have:\n",
        "\n",
        "$$z_1 = w_{21}h + b_{21}~~~~~~~~~~~z_2 = w_{22}h + b_{22}$$\n",
        "\n",
        "To train this network, we use a loss function that says that we want the output to be close to the input.  So the loss function is:  \n",
        "  \n",
        "$$L(x_1, x_2) = (z_1 - x_1)^2 + (z_2 - x_2)^2$$\n",
        "    \n",
        "That is, the input is also acting as the label.  This kind of network is called an **auto-encoder**.  You may be wondering what the point of this is.  Because the hidden layer is smaller than the input and output layers, the network is forced to learn low-dimensional representation of the data.  In this case, the network learns to map the input points onto a line in the hidden layer, and then compute the 2D coordinates of the points on this line for the output layer.  This process is called Principal Component Analysis (PCA).\n",
        "\n",
        "We will provide a routine to generate training data:\n",
        "\n",
        "```pca_training_data(n, sigma)```  \n",
        "  \n",
        "The input parameter $n$ indicates the number of points in the training set.  As in the last problem, $X$ contains a $n \\times 2$ matrix in which each row contains the coordinates of a 2D point.  These points are generated to lie along the line $y = x + 1$.  Then Gaussian noise is added to the points, with zero mean and a standard deviation of sigma.\n",
        "\n",
        "Once again, you will implement training and testing routines.  \n",
        "  \n",
        "`pca_training(k, eta, n, sigma)`  \n",
        "  \n",
        "The input $k$ gives the number of iterations of gradient descent to use, while $eta$ gives the learning rate.  The input value $n$ indicates the number of points in the training set, while $sigma$ indicates the amount of noise added to these points.  Use these as parameters to pca\\_training\\_data.  The routine returns theta, a representation of all the weights and biases in the network.\n",
        "Also implement a test routine: \n",
        "\n",
        "```pca_test(theta, X)```  \n",
        "  \n",
        "$X$ will contain test data in the form returned by pca\\_training\\_data.  $Z$ provides the results the network produces given this input; $Z$ has the same format as $X$.  \n",
        "\n",
        "To test this, try training the network with $n = 10$ and $sigma = .1$.  Then test, using the input: `pca_test(theta, [[1,2], [4,5], [10, 3]])`.  \n",
        "  \n",
        "When I run my  code with this test I get: `[[0.9418, 2.0653], [3.9543, 5.0511], [6.1780, 7.2551]]`.  \n",
        "\n"
      ]
    },
    {
      "cell_type": "code",
      "metadata": {
        "id": "OI3FF-JptKqI"
      },
      "source": [
        "###Problem 3\n",
        "###Provided function to create training data\n",
        "def pca_training_data(n, sigma):\n",
        "    m = 1\n",
        "    b = 1\n",
        "    x1 = np.random.uniform(0,10,n)\n",
        "    x2 = m*x1+b\n",
        "    X = np.c_[x1, x2]\n",
        "    X += np.random.normal(0, sigma, X.shape)\n",
        "    return X\n",
        "\n",
        "def pca_training(k, eta, n, sigma):\n",
        "    #TODO: Your Code Here\n",
        "    w11 = np.random.normal(0,1)\n",
        "    w12 = np.random.normal(0,1)\n",
        "    w21 = np.random.normal(0,1)\n",
        "    w22 = np.random.normal(0,1)\n",
        "    b11 = 0\n",
        "    b21 = 0\n",
        "    b22 = 0\n",
        "    for i in range(k):\n",
        "      x = pca_training_data(n, sigma)\n",
        "      x1, x2 = x[:, 0], x[:, 1]\n",
        "      h = w11*x1 + w12*x2 + b11\n",
        "\n",
        "      w21 = w21 - eta*np.mean(2*(w21*h + b21 - x1)*h)\n",
        "      w22 = w22 - eta*np.mean(2*(w22*h + b22 - x2)*h)\n",
        "      w11 = w11 - eta*np.mean(2*(w21*h + b21 - x1)*w21*x1 + 2*(w22*h + b22 - x2)*w22*x1)\n",
        "      w12 = w12 - eta*np.mean(2*(w21*h + b21 - x1)*w21*x2 + 2*(w22*h + b22 - x2)*w22*x2)\n",
        "      b11 = b11 - eta*np.mean(2*(w21*h + b21 - x1)*w21 + 2*(w22*h + b22 - x2)*w22)\n",
        "      b21 = b21 - eta*np.mean(2*(w21*h + b21 - x1))\n",
        "      b22 = b22 - eta*np.mean(2*(w22*h + b22 - x2))\n",
        "    \n",
        "    return ((w11,w12,w21,w22),(b11,b21,b22))\n",
        "\n",
        "def pca_test(theta, X):\n",
        "    #TODO: Your Code Here\n",
        "    ((w11,w12,w21,w22),(b11,b21,b22)) = theta\n",
        "    x1, x2 = X[:, 0], X[:, 1]\n",
        "    h = w11*x1 + w12*x2 + b11\n",
        "    z1 = b21 + w21*h\n",
        "    z2 = b22 + w22*h\n",
        "    return np.stack([z1, z2], 1)\n"
      ],
      "execution_count": 70,
      "outputs": []
    },
    {
      "cell_type": "markdown",
      "metadata": {
        "id": "PwXLKsE9QQjt"
      },
      "source": [
        "### Analysis (10 Points)\n",
        "It may take a little work to find good values for $k$ and $\\eta$.  Add a description of your experimental results inside this cell.  \n",
        "\n",
        "a) Can you explain why the network produces the point $(6.1780, 7.2551)$ with an input of $(10, 3)$? **(Explain in less than 30 words. You will be penalized if the answer exceeds the word limit.)**\n",
        "\n",
        "b) Do another test with $sigma = 0$ instead of $sigma = .1$.  Run your network with the same test data.  How have the results changed?  Can you explain this change? **(Explain in less than 30 words. You will be penalized if the answer exceeds the word limit.)**\n",
        "\n",
        "\\\\\n",
        "\n",
        "- !!! _YOUR RESPONSE HERE_ !!!\n",
        "\n",
        "**a)All points are generated to lie along the line y = x + 1, but (10,3) does not satisfy this rule.**\n",
        "\n",
        "**b)The result is more accurate than before, because the noise becomes small.**"
      ]
    },
    {
      "cell_type": "markdown",
      "metadata": {
        "id": "1Wep92fjrcgK"
      },
      "source": [
        "## Problem 4 (optional challenge problem, for extra credit, 20 points):\n",
        "Ok, now you are ready to create a complete, fully connected neural net with a hidden layer and non-linearities. You will use this network to solve the XOR problem, using the same training data as in Problem 2. Your network architecture should have the following components:\n",
        "- Two input units, with activations $x_1$ and $x_2$.  These are just the coordinates of 2D points.\n",
        "- A variable number of hidden units, H.  Write your code so that you can select the number of hidden units as a hyperparameter.  Let's call the activation of the $i$'th hidden unit, $a^1_i$.  Let's call the weights of these units $w^1_{ij}$.  This is the weight from input unit $j$ to hidden unit $i$.  \n",
        "- Use a RELU non-linearity for the hidden units.  So to determine the activation of a hidden unit we have: $z^1_i = w^1_{i1}x_1 + w^1_{i2}x_2 + b^1_i$, and $a^1_i = max(0, z^1_i)$.\n",
        "- There is then a single output unit.  Call its activation $a^2$.  We compute this as: $z^2 = \\left( \\sum_{i=1}^H w^2_{1i}a^1_i \\right) + b^2$, and $a^2 = \\sigma(z^2)$, where $\\sigma$ is the sigmoid nonlinearity.  This last part is just the same as in Problem 2.  And, like Problem 2, you can train your network using the cross-entropy loss.\n",
        "\n",
        "<center>\n",
        "<img src=\"https://drive.google.com/thumbnail?id=1qfLXZJsDFIwTfIdHxEP6HnJBmUrPGZsT&sz=w1000\" alt=\"net3\" width=\"400px\"/>\n",
        "<br>\n",
        "<i>Figure 4: Network for Problem 4</i>\n",
        "</center>\n",
        "<br>\n",
        "<br>\n",
        "\n",
        "Implement test and training functions with the templates:\n",
        "\n",
        "`nn_training(k, eta, trainset, H)`\n",
        "\n",
        "`nn_testing(theta, X)`\n",
        "\n",
        "The parameters to the training routine are similar to those in Problem 2, with $H$ indicating the number of hidden units.  The testing routine has the same form as in Problem 2.\n",
        "\n",
        "__Remember__: The `trainset` argument is the integer to be used to generate data with `single_layer_training_data(trainset)`, it is not the actual training dataset."
      ]
    },
    {
      "cell_type": "code",
      "metadata": {
        "id": "J3U68nvJtM1_"
      },
      "source": [
        "###Problem 4: Challenge Problem\n",
        "def nn_training(k, eta, trainset, H):\n",
        "    #TODO: Your Code Here\n",
        "    X, y = single_layer_training_data(trainset)\n",
        "    b1, b2 = 1, 1\n",
        "    w1 = np.random.normal(0, 1, H)\n",
        "    w2 = np.random.normal(0, 1, H)\n",
        "       \n",
        "    return (w1, w2, b1, b2)\n",
        "\n",
        "def nn_testing(theta, X):\n",
        "    #TODO: Your Code Here\n",
        "    (w1, w2, b1, b2) = theta\n",
        "    z = np.matmul(X, w1) + b1\n",
        "    z = np.matmul(np.maximum(0, z), w2) + b2\n",
        "    loss = 1 / (1 + np.exp(-z))\n",
        "    y = loss.reshape(-1)\n",
        "    return y\n"
      ],
      "execution_count": 141,
      "outputs": []
    },
    {
      "cell_type": "markdown",
      "metadata": {
        "id": "PJcDH94VQ3iV"
      },
      "source": [
        "### Analysis (5 Points)\n",
        "Run experiments to demonstrate that your network can solve the XOR problem. How do you find the results vary as you vary the number of hidden units?  Show and discuss the results of your experiments inside/below this cell.\n",
        "\n",
        "- !!! _YOUR RESPONSE HERE_ !!!"
      ]
    }
  ]
}